{
 "cells": [
  {
   "cell_type": "code",
   "execution_count": 2,
   "metadata": {},
   "outputs": [
    {
     "data": {
      "text/plain": [
       "True"
      ]
     },
     "execution_count": 2,
     "metadata": {},
     "output_type": "execute_result"
    }
   ],
   "source": [
    "# ============ IMPORTAÇÕES ============ #\n",
    "from time import sleep\n",
    "import requests\n",
    "\n",
    "from webdriver_manager.chrome import ChromeDriverManager\n",
    "from selenium import webdriver\n",
    "from selenium.webdriver.chrome.service import Service\n",
    "from selenium.webdriver.common.by import By\n",
    "from selenium.webdriver.common.keys import Keys\n",
    "from selenium.webdriver.chrome.options import Options\n",
    "from selenium.webdriver.support.wait import WebDriverWait\n",
    "from selenium.webdriver.support import expected_conditions as EC\n",
    "\n",
    "import os\n",
    "from pathlib import Path\n",
    "from dotenv import load_dotenv\n",
    "load_dotenv()"
   ]
  },
  {
   "cell_type": "code",
   "execution_count": 3,
   "metadata": {},
   "outputs": [],
   "source": [
    "# ============ CONSTANTES ============ #\n",
    "# BASE_DIR = Path(__file__).parent\n",
    "BASE_DIR = os.getcwd()\n",
    "CHAVE_API = os.getenv('CHAVE_API')"
   ]
  },
  {
   "cell_type": "code",
   "execution_count": 18,
   "metadata": {},
   "outputs": [],
   "source": [
    "# ============ Configuração Básica ============ #\n",
    "chrome_options = Options()\n",
    "chrome_options.add_argument(r\"user-data-dir=\" + str(BASE_DIR) + '/profile/whatsapp')\n",
    "\n",
    "service = Service(ChromeDriverManager().install())\n",
    "\n",
    "driver = webdriver.Chrome(service=service, options=chrome_options)\n",
    "driver.get('https://web.whatsapp.com/')\n",
    "sleep(10)\n",
    "\n",
    "wait = WebDriverWait(driver=driver, timeout=60)"
   ]
  },
  {
   "cell_type": "code",
   "execution_count": 4,
   "metadata": {},
   "outputs": [],
   "source": [
    "# ============ Configurações da API ============ #\n",
    "# ===== EDITARCODIGO ===== #\n",
    "agent = {\n",
    "    \"User-Agent\": 'Mozilla/5.0 (Windows NT 6.3; WOW64) AppleWebKit/537.36 (KHTML, like Gecko) Chrome/59.0.3071.115 Safari/537.36'}\n",
    "api = requests.get(url=f\"https://editacodigo.com.br/index/api-whatsapp/{CHAVE_API}\",  headers=agent)\n",
    "sleep(1)\n",
    "api = api.text\n",
    "api = api.split(\".n.\")"
   ]
  },
  {
   "cell_type": "code",
   "execution_count": 5,
   "metadata": {},
   "outputs": [],
   "source": [
    "# ============ Objetos ============ #\n",
    "bolinha_verde = api[3].strip()  # _ahlk\n",
    "contato_cliente = api[4].strip()  # //*[@id=\"main\"]/header/div[2]/div/div/div/span\n",
    "msg_cliente = api[6].strip() # '_amjv'\n",
    "caixa_msg1 = api[7].strip() # 'div[title=\"Digite uma mensagem\"]'\n",
    "\n",
    "caixa_msg2 = api[5].strip()  # //*[@id=\"main\"]/footer/div[1]/div/span[2]/div/div[2]/div[1]/div/div[1]/p\n",
    "caixa_pesquisa = api[8].strip() # \"div[title='Caixa de texto de pesquisa']\""
   ]
  },
  {
   "cell_type": "markdown",
   "metadata": {},
   "source": [
    "\n",
    "# ============ Funções ============ #"
   ]
  },
  {
   "cell_type": "code",
   "execution_count": 6,
   "metadata": {},
   "outputs": [],
   "source": [
    "def click_notificacao():\n",
    "    bolinha = driver.find_element(By.CLASS_NAME, bolinha_verde)\n",
    "    bolinha = driver.find_elements(By.CLASS_NAME, bolinha_verde)\n",
    "    click_bolinha = bolinha[-1]\n",
    "    action = webdriver.common.action_chains.ActionChains(driver)\n",
    "    action.move_to_element_with_offset(click_bolinha, 0, -20)\n",
    "    action.click().perform()\n",
    "    action.click().perform()"
   ]
  },
  {
   "cell_type": "code",
   "execution_count": 8,
   "metadata": {},
   "outputs": [],
   "source": [
    "def pegar_telefone():\n",
    "    pega_tel_cliente = driver.find_element(By.XPATH, contato_cliente)\n",
    "    telefone_cliente = pega_tel_cliente.text\n",
    "\n",
    "    return telefone_cliente"
   ]
  },
  {
   "cell_type": "code",
   "execution_count": 7,
   "metadata": {},
   "outputs": [],
   "source": [
    "def pegar_n_mensagem(n):\n",
    "    todas_as_msg = driver.find_elements(By.CLASS_NAME, msg_cliente)\n",
    "    lista_msg_texto = [e.text for e in todas_as_msg]\n",
    "    msg = lista_msg_texto[-n]\n",
    "    msg = str(msg).split('\\n')[0]\n",
    "\n",
    "    return msg\n",
    "#pega a mensagem antes de enviar"
   ]
  },
  {
   "cell_type": "code",
   "execution_count": 9,
   "metadata": {},
   "outputs": [],
   "source": [
    "def mensagem_qualquer(msg1):\n",
    "    campo_de_texto = driver.find_element(By.XPATH, caixa_msg1)\n",
    "    campo_de_texto.click()\n",
    "    # Banco de respostas\n",
    "    \n",
    "    sleep(3)\n",
    "    campo_de_texto.send_keys(msg1, Keys.ENTER)"
   ]
  },
  {
   "cell_type": "code",
   "execution_count": 16,
   "metadata": {},
   "outputs": [],
   "source": [
    "def mensaguem_php():\n",
    "    msg = pegar_n_mensagem(1)\n",
    "    tel = pegar_telefone()\n",
    "    resposta = requests.get('http://localhost/BotBarbeariaZap/index.php?', \n",
    "                            params={'msg': msg, 'telefone':tel}, headers=agent)\n",
    "    sleep(2)\n",
    "    resposta = resposta.text\n",
    "    print(resposta)"
   ]
  },
  {
   "cell_type": "code",
   "execution_count": null,
   "metadata": {},
   "outputs": [],
   "source": [
    "def bem_vindo():\n",
    "    campo_de_texto = driver.find_element(By.XPATH, caixa_msg1)\n",
    "    campo_de_texto.click()\n",
    "    sleep(1)\n",
    "    campo_de_texto.send_keys(\"Bem vindo a Barbearia dois irmão\", Keys.ENTER)\n",
    "\n",
    "    campo_de_texto = driver.find_element(By.XPATH, caixa_msg1)\n",
    "    campo_de_texto.click()\n",
    "    sleep(1)\n",
    "    campo_de_texto.send_keys(\"R$20,00....Corte Básico\", Keys.SHIFT + Keys.ENTER)\n",
    "    campo_de_texto.send_keys(\"R$25,00....Corte Navalhado\", Keys.SHIFT + Keys.ENTER)\n",
    "    campo_de_texto.send_keys(\"R$5,00......Só o pezinho\", Keys.SHIFT + Keys.ENTER)\n",
    "    campo_de_texto.send_keys(\"R$5,00......Sobrancelha\", Keys.SHIFT + Keys.ENTER)\n",
    "    campo_de_texto.send_keys(\"R$10,00....Barba\", Keys.SHIFT + Keys.ENTER)\n",
    "    campo_de_texto.send_keys(\"R$30,00....Combo cabelo, barba e Sobrancelha\", Keys.SHIFT + Keys.ENTER)\n",
    "    campo_de_texto.send_keys(\"R$5,00......Desenhos e Listras\", Keys.ENTER)\n",
    "\n",
    "    campo_de_texto = driver.find_element(By.XPATH, caixa_msg1)\n",
    "    campo_de_texto.click()\n",
    "    sleep(1)\n",
    "    campo_de_texto.send_keys(\"Rua Quize de Novembro, 378 - Praia de Mauá\" + Keys.ENTER)"
   ]
  },
  {
   "cell_type": "markdown",
   "metadata": {},
   "source": [
    "# ============ Bot ============ #"
   ]
  },
  {
   "cell_type": "code",
   "execution_count": null,
   "metadata": {},
   "outputs": [],
   "source": [
    "def bot():\n",
    "    try:\n",
    "        click_notificacao()\n",
    "        contato = pegar_telefone()\n",
    "        mensagem_qualquer(f'Olá {contato}')\n",
    "\n",
    "        # FECHAR CONTATO\n",
    "        webdriver.ActionChains(driver).send_keys(Keys.ESCAPE).perform()\n",
    "    except:\n",
    "        print('Buscando novas mensagens não lidas!')\n",
    "        sleep(5)"
   ]
  },
  {
   "cell_type": "markdown",
   "metadata": {},
   "source": [
    "# ============ Start ============ #"
   ]
  },
  {
   "cell_type": "code",
   "execution_count": null,
   "metadata": {},
   "outputs": [],
   "source": [
    "while True:\n",
    "    bot()"
   ]
  }
 ],
 "metadata": {
  "kernelspec": {
   "display_name": ".venv",
   "language": "python",
   "name": "python3"
  },
  "language_info": {
   "codemirror_mode": {
    "name": "ipython",
    "version": 3
   },
   "file_extension": ".py",
   "mimetype": "text/x-python",
   "name": "python",
   "nbconvert_exporter": "python",
   "pygments_lexer": "ipython3",
   "version": "3.12.3"
  }
 },
 "nbformat": 4,
 "nbformat_minor": 2
}
