{
 "cells": [
  {
   "cell_type": "code",
   "execution_count": 1,
   "metadata": {},
   "outputs": [
    {
     "data": {
      "text/plain": [
       "True"
      ]
     },
     "execution_count": 1,
     "metadata": {},
     "output_type": "execute_result"
    }
   ],
   "source": [
    "# ============ IMPORTAÇÕES ============ #\n",
    "from time import sleep\n",
    "import requests\n",
    "\n",
    "from webdriver_manager.chrome import ChromeDriverManager\n",
    "from selenium import webdriver\n",
    "from selenium.webdriver.chrome.service import Service\n",
    "from selenium.webdriver.common.by import By\n",
    "from selenium.webdriver.common.keys import Keys\n",
    "from selenium.webdriver.chrome.options import Options\n",
    "from selenium.webdriver.support.wait import WebDriverWait\n",
    "from selenium.webdriver.support import expected_conditions as EC\n",
    "\n",
    "import os\n",
    "from pathlib import Path\n",
    "from dotenv import load_dotenv\n",
    "load_dotenv()"
   ]
  },
  {
   "cell_type": "code",
   "execution_count": 2,
   "metadata": {},
   "outputs": [],
   "source": [
    "# ============ CONSTANTES ============ #\n",
    "# BASE_DIR = Path(__file__).parent\n",
    "BASE_DIR = os.getcwd()\n",
    "CHAVE_API = os.getenv('CHAVE_API')\n",
    "USER = 'vitor@gmail.com'"
   ]
  },
  {
   "cell_type": "code",
   "execution_count": 3,
   "metadata": {},
   "outputs": [],
   "source": [
    "# ============ Configuração Básica ============ #\n",
    "chrome_options = Options()\n",
    "chrome_options.add_argument(r\"user-data-dir=\" + str(BASE_DIR) + '/profile/whatsapp')\n",
    "\n",
    "service = Service(ChromeDriverManager().install())\n",
    "\n",
    "driver = webdriver.Chrome(service=service, options=chrome_options)\n",
    "driver.get('https://web.whatsapp.com/')"
   ]
  },
  {
   "cell_type": "code",
   "execution_count": 4,
   "metadata": {},
   "outputs": [],
   "source": [
    "# ============ Configurações da API ============ #\n",
    "# ===== EDITARCODIGO ===== #\n",
    "agent = {\n",
    "    \"User-Agent\": 'Mozilla/5.0 (Windows NT 6.3; WOW64) AppleWebKit/537.36 (KHTML, like Gecko) Chrome/59.0.3071.115 Safari/537.36'}\n",
    "api = requests.get(url=f\"https://editacodigo.com.br/index/api-whatsapp/{CHAVE_API}\",  headers=agent)\n",
    "sleep(1)\n",
    "api = api.text\n",
    "api = api.split(\".n.\")"
   ]
  },
  {
   "cell_type": "code",
   "execution_count": 5,
   "metadata": {},
   "outputs": [],
   "source": [
    "# ============ Objetos ============ #\n",
    "bolinha_verde = api[3].strip()  # _ahlk\n",
    "contato_cliente = api[4].strip()  # //*[@id=\"main\"]/header/div[2]/div/div/div/span\n",
    "msg_cliente = api[6].strip() # '_amjv'\n",
    "caixa_msg1 = api[7].strip() # 'div[title=\"Digite uma mensagem\"]'\n",
    "\n",
    "caixa_msg2 = api[5].strip()  # //*[@id=\"main\"]/footer/div[1]/div/span[2]/div/div[2]/div[1]/div/div[1]/p\n",
    "caixa_pesquisa = api[8].strip() # \"div[title='Caixa de texto de pesquisa']\""
   ]
  },
  {
   "cell_type": "markdown",
   "metadata": {},
   "source": [
    "\n",
    "# ============ Funções ============ #"
   ]
  },
  {
   "cell_type": "code",
   "execution_count": 7,
   "metadata": {},
   "outputs": [
    {
     "name": "stdout",
     "output_type": "stream",
     "text": [
      "NÃO HÁ NOTIFICAÇÕES\n"
     ]
    }
   ],
   "source": [
    "# ===== CLICK NOTIFICAÇÃO ===== #\n",
    "try:\n",
    "    bolinha = driver.find_element(By.CLASS_NAME, bolinha_verde)\n",
    "    bolinha = driver.find_elements(By.CLASS_NAME, bolinha_verde)\n",
    "    click_bolinha = bolinha[-1]\n",
    "    action = webdriver.common.action_chains.ActionChains(driver)\n",
    "    action.move_to_element_with_offset(click_bolinha, 0, -20)\n",
    "    action.click().perform()\n",
    "    action.click().perform()\n",
    "except:\n",
    "    print('NÃO HÁ NOTIFICAÇÕES')"
   ]
  },
  {
   "cell_type": "code",
   "execution_count": 6,
   "metadata": {},
   "outputs": [
    {
     "name": "stdout",
     "output_type": "stream",
     "text": [
      "Conversando com  \"+55 21 99967-7281\"\n"
     ]
    }
   ],
   "source": [
    "# ===== CONTATO DO CLIENTE ===== #\n",
    "cliente_contato = driver.find_element(By.XPATH, contato_cliente)\n",
    "cliente_contato = cliente_contato.text\n",
    "print(f'Conversando com  \"{cliente_contato}\"')"
   ]
  },
  {
   "cell_type": "code",
   "execution_count": 7,
   "metadata": {},
   "outputs": [
    {
     "name": "stdout",
     "output_type": "stream",
     "text": [
      "A mensagem salva foi \"Oi\"\n"
     ]
    }
   ],
   "source": [
    "# ===== PEGA A ÚLTIMA MENSAGEM ===== #\n",
    "todas_as_msg = driver.find_elements(By.CLASS_NAME, msg_cliente)\n",
    "lista_msg_texto = [e.text for e in todas_as_msg]\n",
    "cliente_msg = lista_msg_texto[-1]\n",
    "cliente_msg = str(cliente_msg).split('\\n')[0]\n",
    "print(f'A mensagem salva foi \"{cliente_msg}\"')"
   ]
  },
  {
   "cell_type": "code",
   "execution_count": 10,
   "metadata": {},
   "outputs": [
    {
     "name": "stdout",
     "output_type": "stream",
     "text": [
      "deu bom\n"
     ]
    }
   ],
   "source": [
    "# ===== ENVIA UMA MENSAGEM PELO PHP ===== #\n",
    "campo_de_texto = driver.find_element(By.CSS_SELECTOR, caixa_msg1)\n",
    "campo_de_texto.click()\n",
    "sleep(1)\n",
    "\n",
    "resposta = requests.get('http://localhost/BotBarbeariaZap/index2.php?',\n",
    "                        params={'msg': cliente_msg, 'contato': cliente_contato, 'usuario': USER}, headers=agent)\n",
    "resposta = resposta.text\n",
    "print(resposta)\n",
    "sleep(1)\n",
    "# campo_de_texto.send_keys(resposta, Keys.ENTER)\n",
    "\n",
    "sleep(0.5)"
   ]
  },
  {
   "cell_type": "markdown",
   "metadata": {},
   "source": [
    "# ============ Bot ============ #"
   ]
  },
  {
   "cell_type": "code",
   "execution_count": null,
   "metadata": {},
   "outputs": [],
   "source": [
    "webdriver.ActionChains(driver).send_keys(Keys.ESCAPE).perform()"
   ]
  },
  {
   "cell_type": "code",
   "execution_count": null,
   "metadata": {},
   "outputs": [],
   "source": [
    "def bot():\n",
    "    try:\n",
    "\n",
    "        # FECHAR CONTATO\n",
    "        webdriver.ActionChains(driver).send_keys(Keys.ESCAPE).perform()\n",
    "    except:\n",
    "        print('Buscando novas mensagens não lidas!')\n",
    "        sleep(5)"
   ]
  },
  {
   "cell_type": "markdown",
   "metadata": {},
   "source": [
    "# ============ Start ============ #"
   ]
  },
  {
   "cell_type": "code",
   "execution_count": null,
   "metadata": {},
   "outputs": [],
   "source": [
    "while True:\n",
    "    bot()"
   ]
  }
 ],
 "metadata": {
  "kernelspec": {
   "display_name": ".venv",
   "language": "python",
   "name": "python3"
  },
  "language_info": {
   "codemirror_mode": {
    "name": "ipython",
    "version": 3
   },
   "file_extension": ".py",
   "mimetype": "text/x-python",
   "name": "python",
   "nbconvert_exporter": "python",
   "pygments_lexer": "ipython3",
   "version": "3.12.3"
  }
 },
 "nbformat": 4,
 "nbformat_minor": 2
}
